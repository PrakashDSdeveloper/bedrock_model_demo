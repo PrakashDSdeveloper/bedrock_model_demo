{
 "cells": [
  {
   "cell_type": "code",
   "execution_count": null,
   "metadata": {},
   "outputs": [],
   "source": [
    "import boto3\n",
    "import configparser\n",
    "\n",
    "#setup_configuration\n",
    "config = configparser.ConfigParser()\n",
    "config.read_file(open('dwh.cfg'))\n",
    "KEY = config.get('default','aws_access_key_id')\n",
    "SECRETE = config.get('default','aws_secret_access_key')"
   ]
  },
  {
   "cell_type": "code",
   "execution_count": null,
   "metadata": {},
   "outputs": [],
   "source": [
    "#creating redshift client\n",
    "redshift = boto3.client('redshift',region_name = 'us-east-1',aws_access_key_id=KEY,aws_secret_access_key=SECRETE)"
   ]
  },
  {
   "cell_type": "code",
   "execution_count": null,
   "metadata": {},
   "outputs": [],
   "source": [
    "def create_cluster(redshift, DWH_CLUSTER_TYPE, NUM_NODES, DB_NAME, DB_USER, DB_PASSWORD):\n",
    "    cluster_type = 'multi-node' if NUM_NODES > 1 else 'single-node'\n",
    "    response = redshift.create_cluster(\n",
    "        ClusterType=cluster_type,\n",
    "        NodeType=DWH_CLUSTER_TYPE,\n",
    "        NumberOfNodes=NUM_NODES,\n",
    "        DBName=DB_NAME,\n",
    "        ClusterIdentifier='my-redshift-cluster',\n",
    "        MasterUsername=DB_USER,\n",
    "        MasterUserPassword=DB_PASSWORD,\n",
    "        AutomatedSnapshotRetentionPeriod=2,\n",
    "        VpcSecurityGroupIds=['sg-0f3249e4995f4133b'],\n",
    "        ClusterSubnetGroupName='default'\n",
    "    )\n",
    "    print('Cluster ARN:', response['Cluster']['ClusterArn'])\n",
    "\n",
    "create_cluster(redshift, 'dc2.large', 2, 'development', 'awsuser', 'Prakash-123456')\n"
   ]
  },
  {
   "cell_type": "code",
   "execution_count": null,
   "metadata": {},
   "outputs": [],
   "source": [
    "# def create_security_group(redshift,security_group_name,vpc_id,port):\n",
    "#     response= redshift.authorize_cluster_security_group_ingress(\n",
    "#         ClusterIdentifier = 'my-redshift-cluster',\n",
    "#         ClusterSecurityGroupName = security_group_name,\n",
    "#         CIDRIP = '0.0.0.0/0',\n",
    "#         FromPort =port,\n",
    "#         ToPort = port\n",
    "#     )\n",
    "#     print('Security group ID:', response['ClusterSecurityGroupName'])\n",
    "# create_security_group(redshift, 'model-check','vpc-0b1c21df24b40d857',5439)\n",
    "\n"
   ]
  },
  {
   "cell_type": "code",
   "execution_count": null,
   "metadata": {},
   "outputs": [],
   "source": [
    "import boto3\n",
    "\n",
    "def create_security_group(ec2, security_group_id, port):\n",
    "    response = ec2.authorize_security_group_ingress(\n",
    "        GroupId=security_group_id,\n",
    "        IpPermissions=[\n",
    "            {\n",
    "                'IpProtocol': 'tcp',\n",
    "                'FromPort': port,\n",
    "                'ToPort': port,\n",
    "                'IpRanges': [{'CidrIp': '0.0.0.0/0'}]\n",
    "            }\n",
    "        ]\n",
    "    )\n",
    "    print('Ingress rule added to security group:', security_group_id)\n",
    "\n",
    "# Specify the region when creating the EC2 client\n",
    "ec2 = boto3.client('ec2', region_name='us-east-1')\n",
    "\n",
    "# Replace 'your-security-group-id' with your actual security group ID and '5439' with your desired port number\n",
    "create_security_group(ec2, 'sg-0b7be7c1918181e69', 5439)\n"
   ]
  },
  {
   "cell_type": "code",
   "execution_count": null,
   "metadata": {},
   "outputs": [],
   "source": [
    "\n",
    "try:\n",
    "    import redshift_connector\n",
    "except ModuleNotFoundError:\n",
    "    !pip install redshift_connector\n",
    "    import redshift_connector"
   ]
  },
  {
   "cell_type": "code",
   "execution_count": 6,
   "metadata": {},
   "outputs": [
    {
     "name": "stdout",
     "output_type": "stream",
     "text": [
      "success\n"
     ]
    }
   ],
   "source": [
    "conn = redshift_connector.connect(\n",
    "    host = 'my-redshift-cluster.cst1nhbptfv8.us-east-1.redshift.amazonaws.com',\n",
    "    database = 'development',\n",
    "    port = 5439,\n",
    "    user = 'awsuser',\n",
    "    password = 'Prakash-123456'\n",
    ")\n",
    "cursor  = conn.cursor()\n",
    "print('success')"
   ]
  },
  {
   "cell_type": "code",
   "execution_count": 15,
   "metadata": {},
   "outputs": [],
   "source": [
    "conn.rollback()"
   ]
  },
  {
   "cell_type": "code",
   "execution_count": 7,
   "metadata": {},
   "outputs": [
    {
     "data": {
      "text/plain": [
       "<redshift_connector.cursor.Cursor at 0x2a8b4da8140>"
      ]
     },
     "execution_count": 7,
     "metadata": {},
     "output_type": "execute_result"
    }
   ],
   "source": [
    "cursor.execute(\"ROLLBACK;\")"
   ]
  },
  {
   "cell_type": "code",
   "execution_count": 8,
   "metadata": {},
   "outputs": [],
   "source": [
    "cursor.execute(\"\"\"\n",
    "CREATE TABLE employement_data (\n",
    "    id INT IDENTITY(1,1) PRIMARY KEY,\n",
    "    first_name VARCHAR(50),\n",
    "    last_name VARCHAR(50),\n",
    "    email VARCHAR(100),\n",
    "    department VARCHAR(50),\n",
    "    salary DECIMAL(10, 2),\n",
    "    hire_date DATE,\n",
    "    job_title VARCHAR(50),\n",
    "    location VARCHAR(50),\n",
    "    phone_number VARCHAR(20)\n",
    ")\n",
    "\"\"\")\n",
    "conn.commit()\n",
    "\n",
    "\n",
    "# result:tuple = cursor.fetchall()\n",
    "# print(result)"
   ]
  },
  {
   "cell_type": "code",
   "execution_count": 9,
   "metadata": {},
   "outputs": [],
   "source": [
    "cursor.execute(\"\"\"\n",
    "INSERT INTO employement_data (first_name, last_name, email, department, salary, hire_date, job_title, location, phone_number)\n",
    "VALUES \n",
    "    ('John', 'Doe', 'john.doe@example.com', 'Engineering', 75000.00, '2023-01-01', 'Software Engineer', 'New York', '123-456-7890'),\n",
    "    ('Jane', 'Smith', 'jane.smith@example.com', 'Marketing', 65000.00, '2023-02-01', 'Marketing Manager', 'San Francisco', '987-654-3210'),\n",
    "    ('Bob', 'Johnson', 'bob.johnson@example.com', 'Sales', 55000.00, '2023-03-01', 'Sales Associate', 'Los Angeles', '456-789-0123')\n",
    "\"\"\")\n",
    "conn.commit()"
   ]
  },
  {
   "cell_type": "code",
   "execution_count": 17,
   "metadata": {},
   "outputs": [
    {
     "name": "stdout",
     "output_type": "stream",
     "text": [
      "([1, 'John', 'Doe', 'john.doe@example.com', 'Engineering', Decimal('75000.00'), datetime.date(2023, 1, 1), 'Software Engineer', 'New York', '123-456-7890'], [2, 'Jane', 'Smith', 'jane.smith@example.com', 'Marketing', Decimal('65000.00'), datetime.date(2023, 2, 1), 'Marketing Manager', 'San Francisco', '987-654-3210'], [3, 'Bob', 'Johnson', 'bob.johnson@example.com', 'Sales', Decimal('55000.00'), datetime.date(2023, 3, 1), 'Sales Associate', 'Los Angeles', '456-789-0123'])\n"
     ]
    }
   ],
   "source": [
    "cursor.execute(\"\"\"Select * from employement_data\"\"\")\n",
    "result:tuple = cursor.fetchall()\n",
    "print(result)\n",
    "# conn.commit()"
   ]
  }
 ],
 "metadata": {
  "kernelspec": {
   "display_name": "base",
   "language": "python",
   "name": "python3"
  },
  "language_info": {
   "codemirror_mode": {
    "name": "ipython",
    "version": 3
   },
   "file_extension": ".py",
   "mimetype": "text/x-python",
   "name": "python",
   "nbconvert_exporter": "python",
   "pygments_lexer": "ipython3",
   "version": "3.12.2"
  }
 },
 "nbformat": 4,
 "nbformat_minor": 2
}
